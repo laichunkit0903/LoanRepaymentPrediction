{
 "cells": [
  {
   "cell_type": "code",
   "execution_count": 1,
   "metadata": {},
   "outputs": [],
   "source": [
    "# Import neccasary libraries\n",
    "\n",
    "import numpy as np\n",
    "import pandas as pd\n",
    "from datetime import date\n",
    "import seaborn as sns\n",
    "import matplotlib.pyplot as plt\n",
    "%matplotlib inline"
   ]
  },
  {
   "cell_type": "code",
   "execution_count": 2,
   "metadata": {},
   "outputs": [],
   "source": [
    "## Read in required data\n",
    "\n",
    "loan = pd.read_csv(\"data/loan.csv\", sep=\",\")\n",
    "payment = pd.read_csv(\"data/payment.csv\", sep = \",\")\n",
    "clarity = pd.read_csv(\"data/clarity_underwriting_variables.csv\", sep = \",\" , low_memory=False)"
   ]
  },
  {
   "cell_type": "markdown",
   "metadata": {},
   "source": [
    "# 1. Loan Data Exploratory Analysis"
   ]
  },
  {
   "cell_type": "code",
   "execution_count": 3,
   "metadata": {},
   "outputs": [
    {
     "data": {
      "text/html": [
       "<div>\n",
       "<style scoped>\n",
       "    .dataframe tbody tr th:only-of-type {\n",
       "        vertical-align: middle;\n",
       "    }\n",
       "\n",
       "    .dataframe tbody tr th {\n",
       "        vertical-align: top;\n",
       "    }\n",
       "\n",
       "    .dataframe thead th {\n",
       "        text-align: right;\n",
       "    }\n",
       "</style>\n",
       "<table border=\"1\" class=\"dataframe\">\n",
       "  <thead>\n",
       "    <tr style=\"text-align: right;\">\n",
       "      <th></th>\n",
       "      <th>loanId</th>\n",
       "      <th>anon_ssn</th>\n",
       "      <th>payFrequency</th>\n",
       "      <th>apr</th>\n",
       "      <th>applicationDate</th>\n",
       "      <th>originated</th>\n",
       "      <th>originatedDate</th>\n",
       "      <th>nPaidOff</th>\n",
       "      <th>approved</th>\n",
       "      <th>isFunded</th>\n",
       "      <th>loanStatus</th>\n",
       "      <th>loanAmount</th>\n",
       "      <th>originallyScheduledPaymentAmount</th>\n",
       "      <th>state</th>\n",
       "      <th>leadType</th>\n",
       "      <th>leadCost</th>\n",
       "      <th>fpStatus</th>\n",
       "      <th>clarityFraudId</th>\n",
       "      <th>hasCF</th>\n",
       "    </tr>\n",
       "  </thead>\n",
       "  <tbody>\n",
       "    <tr>\n",
       "      <th>0</th>\n",
       "      <td>LL-I-07399092</td>\n",
       "      <td>beff4989be82aab4a5b47679216942fd</td>\n",
       "      <td>B</td>\n",
       "      <td>360.0</td>\n",
       "      <td>2016-02-23T17:29:01.940000</td>\n",
       "      <td>False</td>\n",
       "      <td>NaN</td>\n",
       "      <td>0.0</td>\n",
       "      <td>False</td>\n",
       "      <td>0</td>\n",
       "      <td>Withdrawn Application</td>\n",
       "      <td>500.0</td>\n",
       "      <td>978.27</td>\n",
       "      <td>IL</td>\n",
       "      <td>bvMandatory</td>\n",
       "      <td>6</td>\n",
       "      <td>NaN</td>\n",
       "      <td>5669ef78e4b0c9d3936440e6</td>\n",
       "      <td>1</td>\n",
       "    </tr>\n",
       "    <tr>\n",
       "      <th>1</th>\n",
       "      <td>LL-I-06644937</td>\n",
       "      <td>464f5d9ae4fa09ece4048d949191865c</td>\n",
       "      <td>B</td>\n",
       "      <td>199.0</td>\n",
       "      <td>2016-01-19T22:07:36.778000</td>\n",
       "      <td>True</td>\n",
       "      <td>2016-01-20T15:49:18.846000</td>\n",
       "      <td>0.0</td>\n",
       "      <td>True</td>\n",
       "      <td>1</td>\n",
       "      <td>Paid Off Loan</td>\n",
       "      <td>3000.0</td>\n",
       "      <td>6395.19</td>\n",
       "      <td>CA</td>\n",
       "      <td>prescreen</td>\n",
       "      <td>0</td>\n",
       "      <td>Checked</td>\n",
       "      <td>569eb3a3e4b096699f685d64</td>\n",
       "      <td>1</td>\n",
       "    </tr>\n",
       "    <tr>\n",
       "      <th>2</th>\n",
       "      <td>LL-I-10707532</td>\n",
       "      <td>3c174ae9e2505a5f9ddbff9843281845</td>\n",
       "      <td>B</td>\n",
       "      <td>590.0</td>\n",
       "      <td>2016-08-01T13:51:14.709000</td>\n",
       "      <td>False</td>\n",
       "      <td>NaN</td>\n",
       "      <td>0.0</td>\n",
       "      <td>False</td>\n",
       "      <td>0</td>\n",
       "      <td>Withdrawn Application</td>\n",
       "      <td>400.0</td>\n",
       "      <td>1199.45</td>\n",
       "      <td>MO</td>\n",
       "      <td>bvMandatory</td>\n",
       "      <td>3</td>\n",
       "      <td>NaN</td>\n",
       "      <td>579eab11e4b0d0502870ef2f</td>\n",
       "      <td>1</td>\n",
       "    </tr>\n",
       "    <tr>\n",
       "      <th>3</th>\n",
       "      <td>LL-I-02272596</td>\n",
       "      <td>9be6f443bb97db7e95fa0c281d34da91</td>\n",
       "      <td>B</td>\n",
       "      <td>360.0</td>\n",
       "      <td>2015-08-06T23:58:08.880000</td>\n",
       "      <td>False</td>\n",
       "      <td>NaN</td>\n",
       "      <td>0.0</td>\n",
       "      <td>False</td>\n",
       "      <td>0</td>\n",
       "      <td>Withdrawn Application</td>\n",
       "      <td>500.0</td>\n",
       "      <td>1074.05</td>\n",
       "      <td>IL</td>\n",
       "      <td>bvMandatory</td>\n",
       "      <td>3</td>\n",
       "      <td>NaN</td>\n",
       "      <td>555b1e95e4b0f6f11b267c18</td>\n",
       "      <td>1</td>\n",
       "    </tr>\n",
       "    <tr>\n",
       "      <th>4</th>\n",
       "      <td>LL-I-09542882</td>\n",
       "      <td>63b5494f60b5c19c827c7b068443752c</td>\n",
       "      <td>B</td>\n",
       "      <td>590.0</td>\n",
       "      <td>2016-06-05T22:31:34.304000</td>\n",
       "      <td>False</td>\n",
       "      <td>NaN</td>\n",
       "      <td>0.0</td>\n",
       "      <td>False</td>\n",
       "      <td>0</td>\n",
       "      <td>Rejected</td>\n",
       "      <td>350.0</td>\n",
       "      <td>814.37</td>\n",
       "      <td>NV</td>\n",
       "      <td>bvMandatory</td>\n",
       "      <td>3</td>\n",
       "      <td>NaN</td>\n",
       "      <td>5754a91be4b0c6a2bf424772</td>\n",
       "      <td>1</td>\n",
       "    </tr>\n",
       "  </tbody>\n",
       "</table>\n",
       "</div>"
      ],
      "text/plain": [
       "          loanId                          anon_ssn payFrequency    apr  \\\n",
       "0  LL-I-07399092  beff4989be82aab4a5b47679216942fd            B  360.0   \n",
       "1  LL-I-06644937  464f5d9ae4fa09ece4048d949191865c            B  199.0   \n",
       "2  LL-I-10707532  3c174ae9e2505a5f9ddbff9843281845            B  590.0   \n",
       "3  LL-I-02272596  9be6f443bb97db7e95fa0c281d34da91            B  360.0   \n",
       "4  LL-I-09542882  63b5494f60b5c19c827c7b068443752c            B  590.0   \n",
       "\n",
       "              applicationDate  originated              originatedDate  \\\n",
       "0  2016-02-23T17:29:01.940000       False                         NaN   \n",
       "1  2016-01-19T22:07:36.778000        True  2016-01-20T15:49:18.846000   \n",
       "2  2016-08-01T13:51:14.709000       False                         NaN   \n",
       "3  2015-08-06T23:58:08.880000       False                         NaN   \n",
       "4  2016-06-05T22:31:34.304000       False                         NaN   \n",
       "\n",
       "   nPaidOff  approved  isFunded             loanStatus  loanAmount  \\\n",
       "0       0.0     False         0  Withdrawn Application       500.0   \n",
       "1       0.0      True         1          Paid Off Loan      3000.0   \n",
       "2       0.0     False         0  Withdrawn Application       400.0   \n",
       "3       0.0     False         0  Withdrawn Application       500.0   \n",
       "4       0.0     False         0               Rejected       350.0   \n",
       "\n",
       "   originallyScheduledPaymentAmount state     leadType  leadCost fpStatus  \\\n",
       "0                            978.27    IL  bvMandatory         6      NaN   \n",
       "1                           6395.19    CA    prescreen         0  Checked   \n",
       "2                           1199.45    MO  bvMandatory         3      NaN   \n",
       "3                           1074.05    IL  bvMandatory         3      NaN   \n",
       "4                            814.37    NV  bvMandatory         3      NaN   \n",
       "\n",
       "             clarityFraudId  hasCF  \n",
       "0  5669ef78e4b0c9d3936440e6      1  \n",
       "1  569eb3a3e4b096699f685d64      1  \n",
       "2  579eab11e4b0d0502870ef2f      1  \n",
       "3  555b1e95e4b0f6f11b267c18      1  \n",
       "4  5754a91be4b0c6a2bf424772      1  "
      ]
     },
     "execution_count": 3,
     "metadata": {},
     "output_type": "execute_result"
    }
   ],
   "source": [
    "## Inspect loan data frame\n",
    "\n",
    "loan.head()"
   ]
  },
  {
   "cell_type": "code",
   "execution_count": 4,
   "metadata": {},
   "outputs": [
    {
     "data": {
      "text/plain": [
       "loanId                               object\n",
       "anon_ssn                             object\n",
       "payFrequency                         object\n",
       "apr                                 float64\n",
       "applicationDate                      object\n",
       "originated                             bool\n",
       "originatedDate                       object\n",
       "nPaidOff                            float64\n",
       "approved                               bool\n",
       "isFunded                              int64\n",
       "loanStatus                           object\n",
       "loanAmount                          float64\n",
       "originallyScheduledPaymentAmount    float64\n",
       "state                                object\n",
       "leadType                             object\n",
       "leadCost                              int64\n",
       "fpStatus                             object\n",
       "clarityFraudId                       object\n",
       "hasCF                                 int64\n",
       "dtype: object"
      ]
     },
     "execution_count": 4,
     "metadata": {},
     "output_type": "execute_result"
    }
   ],
   "source": [
    "## Type of loan columns\n",
    "\n",
    "loan.dtypes"
   ]
  },
  {
   "cell_type": "code",
   "execution_count": 5,
   "metadata": {},
   "outputs": [
    {
     "name": "stdout",
     "output_type": "stream",
     "text": [
      "Index(['loanId', 'anon_ssn', 'payFrequency', 'apr', 'applicationDate',\n",
      "       'originated', 'originatedDate', 'nPaidOff', 'approved', 'isFunded',\n",
      "       'loanStatus', 'loanAmount', 'originallyScheduledPaymentAmount', 'state',\n",
      "       'leadType', 'leadCost', 'fpStatus', 'clarityFraudId', 'hasCF'],\n",
      "      dtype='object')\n",
      "\n",
      "\n",
      "Statitistic of numerical varables: \n",
      "                   apr       nPaidOff       isFunded     loanAmount  \\\n",
      "count  573760.000000  577658.000000  577682.000000  575432.000000   \n",
      "mean      553.080972       0.037887       0.067480     514.245084   \n",
      "std       110.046159       0.333366       0.250852     320.939929   \n",
      "min         0.000000       0.000000       0.000000       0.000000   \n",
      "25%       490.000000       0.000000       0.000000     350.000000   \n",
      "50%       590.000000       0.000000       0.000000     500.000000   \n",
      "75%       601.000000       0.000000       0.000000     500.000000   \n",
      "max       705.590000      21.000000       1.000000    5000.000000   \n",
      "\n",
      "       originallyScheduledPaymentAmount       leadCost          hasCF  \n",
      "count                     577682.000000  577682.000000  577682.000000  \n",
      "mean                        1428.897209       7.854389       0.619187  \n",
      "std                          925.009141      12.853451       0.485587  \n",
      "min                         -816.710000       0.000000       0.000000  \n",
      "25%                         1023.640000       3.000000       0.000000  \n",
      "50%                         1245.250000       3.000000       1.000000  \n",
      "75%                         1615.660000       6.000000       1.000000  \n",
      "max                        19963.630000     200.000000       1.000000  \n"
     ]
    }
   ],
   "source": [
    "## Inspect loan data column\n",
    "\n",
    "print (loan.columns)\n",
    "print('\\n')\n",
    "print('Statitistic of numerical varables: \\n ' , loan.describe())"
   ]
  },
  {
   "cell_type": "code",
   "execution_count": 6,
   "metadata": {},
   "outputs": [
    {
     "name": "stdout",
     "output_type": "stream",
     "text": [
      "Number of rows of loan data  577682\n",
      "Number of unique loanId 577427\n"
     ]
    }
   ],
   "source": [
    "## Inspect Number of Rows and Number of loanID\n",
    "print('Number of rows of loan data ', len(loan))\n",
    "print('Number of unique loanId', len(set(loan['loanId'])))"
   ]
  },
  {
   "cell_type": "code",
   "execution_count": 7,
   "metadata": {},
   "outputs": [
    {
     "name": "stdout",
     "output_type": "stream",
     "text": [
      "Number of unique anon_ssn 459393\n"
     ]
    }
   ],
   "source": [
    "## Inspect Number of anon_ssn \n",
    "print('Number of unique anon_ssn', len(set(loan['anon_ssn'])))"
   ]
  },
  {
   "cell_type": "code",
   "execution_count": 8,
   "metadata": {},
   "outputs": [
    {
     "data": {
      "text/plain": [
       "loanId                                 256\n",
       "anon_ssn                                 0\n",
       "payFrequency                          1273\n",
       "apr                                   3922\n",
       "applicationDate                          0\n",
       "originated                               0\n",
       "originatedDate                      531638\n",
       "nPaidOff                                24\n",
       "approved                                 0\n",
       "isFunded                                 0\n",
       "loanStatus                             391\n",
       "loanAmount                            2250\n",
       "originallyScheduledPaymentAmount         0\n",
       "state                                  132\n",
       "leadType                                 0\n",
       "leadCost                                 0\n",
       "fpStatus                            525959\n",
       "clarityFraudId                      219989\n",
       "hasCF                                    0\n",
       "dtype: int64"
      ]
     },
     "execution_count": 8,
     "metadata": {},
     "output_type": "execute_result"
    }
   ],
   "source": [
    "## Check null vlaues for loan data frame\n",
    "\n",
    "loan.isnull().sum()"
   ]
  },
  {
   "cell_type": "markdown",
   "metadata": {},
   "source": [
    "# 1.1 Graph Exploratory Analysis"
   ]
  },
  {
   "cell_type": "code",
   "execution_count": 9,
   "metadata": {},
   "outputs": [
    {
     "data": {
      "image/png": "[encoded data removed]",
      "text/plain": [
       "<Figure size 720x360 with 1 Axes>"
      ]
     },
     "metadata": {},
     "output_type": "display_data"
    }
   ],
   "source": [
    "#Pay Frequency Columns\n",
    "\n",
    "%matplotlib inline\n",
    "\n",
    "ax = loan['payFrequency'].value_counts().plot(kind='bar', figsize=(10, 5), legend=False, fontsize=12,color='b')\n",
    "ax.set_xlabel(\"Pay Frequency Category\", fontsize=13)\n",
    "ax.set_ylabel(\"Number of Loan Transactions\", fontsize=13)\n",
    "ax.set_title(\"Pay Frequency Distribuiton\", fontname='Comic Sans MS', fontsize=20)\n",
    "plt.show()"
   ]
  },
  {
   "cell_type": "code",
   "execution_count": 10,
   "metadata": {},
   "outputs": [
    {
     "data": {
      "image/png": "[encoded data removed]",
      "text/plain": [
       "<Figure size 720x360 with 1 Axes>"
      ]
     },
     "metadata": {},
     "output_type": "display_data"
    }
   ],
   "source": [
    "# Originated Columns\n",
    "\n",
    "%matplotlib inline\n",
    "\n",
    "ax = loan['originated'].value_counts().plot(kind='bar', figsize=(10, 5), legend=False, fontsize=12,color='r')\n",
    "ax.set_xlabel(\"Originated Category\", fontsize=13)\n",
    "ax.set_ylabel(\"Number of Loan Transactions\", fontsize=13)\n",
    "ax.set_title(\"Originated Distribuiton\", fontname='Comic Sans MS', fontsize=20)\n",
    "plt.show()"
   ]
  },
  {
   "cell_type": "code",
   "execution_count": 11,
   "metadata": {},
   "outputs": [
    {
     "data": {
      "image/png": "[encoded data removed]",
      "text/plain": [
       "<Figure size 720x360 with 1 Axes>"
      ]
     },
     "metadata": {},
     "output_type": "display_data"
    }
   ],
   "source": [
    "# Loan Status Columns\n",
    "\n",
    "%matplotlib inline\n",
    "\n",
    "ax = loan['loanStatus'].value_counts().plot(kind='bar', figsize=(10, 5), legend=False, fontsize=12,color='y')\n",
    "ax.set_xlabel(\"Loan Status\", fontsize=13)\n",
    "ax.set_ylabel(\"Number of Loan Transactions\", fontsize=13)\n",
    "ax.set_title(\"Loan Status Distribuiton\", fontname='Comic Sans MS', fontsize=20)\n",
    "plt.show()"
   ]
  },
  {
   "cell_type": "code",
   "execution_count": 12,
   "metadata": {},
   "outputs": [
    {
     "data": {
      "text/plain": [
       "Withdrawn Application          450984\n",
       "Rejected                        85070\n",
       "Paid Off Loan                   11427\n",
       "External Collection             11334\n",
       "New Loan                         8112\n",
       "Internal Collection              5567\n",
       "Returned Item                    1182\n",
       "CSR Voided New Loan              1026\n",
       "Settlement Paid Off               708\n",
       "Credit Return Void                704\n",
       "Customer Voided New Loan          504\n",
       "Settled Bankruptcy                326\n",
       "Pending Paid Off                  169\n",
       "Charged Off Paid Off              160\n",
       "Pending Application Fee             5\n",
       "Pending Application                 4\n",
       "Pending Rescind                     4\n",
       "Voided New Loan                     2\n",
       "Customver Voided New Loan           1\n",
       "Charged Off                         1\n",
       "Settlement Pending Paid Off         1\n",
       "Name: loanStatus, dtype: int64"
      ]
     },
     "execution_count": 12,
     "metadata": {},
     "output_type": "execute_result"
    }
   ],
   "source": [
    "loan['loanStatus'].value_counts()"
   ]
  },
  {
   "cell_type": "code",
   "execution_count": 13,
   "metadata": {},
   "outputs": [
    {
     "data": {
      "image/png": "[encoded data removed]",
      "text/plain": [
       "<Figure size 720x360 with 1 Axes>"
      ]
     },
     "metadata": {},
     "output_type": "display_data"
    }
   ],
   "source": [
    "# Lead Type\n",
    "\n",
    "%matplotlib inline\n",
    "\n",
    "ax = loan['leadType'].value_counts().plot(kind='bar', figsize=(10, 5), legend=False, fontsize=12,color='g')\n",
    "ax.set_xlabel(\"Lead Type\", fontsize=13)\n",
    "ax.set_ylabel(\"Number of Loan Transactions\", fontsize=13)\n",
    "ax.set_title(\"Lead Type Distribuiton\", fontname='Comic Sans MS', fontsize=20)\n",
    "plt.show()"
   ]
  },
  {
   "cell_type": "code",
   "execution_count": 14,
   "metadata": {},
   "outputs": [
    {
     "data": {
      "text/plain": [
       "bvMandatory      475001\n",
       "lead              72673\n",
       "organic           22851\n",
       "prescreen          4515\n",
       "rc_returning       2069\n",
       "california          479\n",
       "lionpay              26\n",
       "repeat               24\n",
       "instant-offer        22\n",
       "express              22\n",
       "Name: leadType, dtype: int64"
      ]
     },
     "execution_count": 14,
     "metadata": {},
     "output_type": "execute_result"
    }
   ],
   "source": [
    "loan['leadType'].value_counts()"
   ]
  },
  {
   "cell_type": "code",
   "execution_count": 15,
   "metadata": {},
   "outputs": [
    {
     "data": {
      "image/png": "[encoded data removed]",
      "text/plain": [
       "<Figure size 720x360 with 1 Axes>"
      ]
     },
     "metadata": {},
     "output_type": "display_data"
    }
   ],
   "source": [
    "# fp Status Column\n",
    "\n",
    "%matplotlib inline\n",
    "\n",
    "ax = loan['fpStatus'].value_counts().plot(kind='bar', figsize=(10, 5), legend=False, fontsize=12,color='grey')\n",
    "ax.set_xlabel(\"FP Status\", fontsize=13)\n",
    "ax.set_ylabel(\"Number of Loan Transactions\", fontsize=13)\n",
    "ax.set_title(\"FP Status Distribuiton\", fontname='Comic Sans MS', fontsize=20)\n",
    "plt.show()\n"
   ]
  },
  {
   "cell_type": "code",
   "execution_count": 16,
   "metadata": {},
   "outputs": [
    {
     "data": {
      "image/png": "[encoded data removed]",
      "text/plain": [
       "<Figure size 720x360 with 1 Axes>"
      ]
     },
     "metadata": {},
     "output_type": "display_data"
    }
   ],
   "source": [
    "# is funded  Column\n",
    "\n",
    "%matplotlib inline\n",
    "\n",
    "ax = loan['isFunded'].value_counts().plot(kind='bar', figsize=(10, 5), legend=False, fontsize=12,color='orange')\n",
    "ax.set_xlabel(\"Funded Status\", fontsize=13)\n",
    "ax.set_ylabel(\"Number of Loan Transactions\", fontsize=13)\n",
    "ax.set_title(\"Funded Distribuiton\", fontname='Comic Sans MS', fontsize=20)\n",
    "plt.show()\n"
   ]
  },
  {
   "cell_type": "code",
   "execution_count": 17,
   "metadata": {},
   "outputs": [
    {
     "data": {
      "image/png": "[encoded data removed]",
      "text/plain": [
       "<Figure size 720x360 with 1 Axes>"
      ]
     },
     "metadata": {},
     "output_type": "display_data"
    }
   ],
   "source": [
    "# Loan Approved\n",
    "%matplotlib inline\n",
    "\n",
    "ax = loan['approved'].value_counts().plot(kind='bar', figsize=(10, 5), legend=False, fontsize=12,color ='green')\n",
    "ax.set_xlabel(\"Loan Approval', fontsize=13\")\n",
    "ax.set_ylabel(\"Number of Loan Transactions\", fontsize=13)\n",
    "ax.set_title(\"Loan Approval\", fontname='Comic Sans MS', fontsize=20)\n",
    "plt.show()"
   ]
  },
  {
   "cell_type": "code",
   "execution_count": 18,
   "metadata": {},
   "outputs": [
    {
     "data": {
      "text/plain": [
       "False    537646\n",
       "True      40036\n",
       "Name: approved, dtype: int64"
      ]
     },
     "execution_count": 18,
     "metadata": {},
     "output_type": "execute_result"
    }
   ],
   "source": [
    "loan['approved'].value_counts()"
   ]
  },
  {
   "cell_type": "markdown",
   "metadata": {},
   "source": [
    "# 2. Payment  Data Exploratory Analysis"
   ]
  },
  {
   "cell_type": "code",
   "execution_count": 19,
   "metadata": {},
   "outputs": [
    {
     "data": {
      "text/html": [
       "<div>\n",
       "<style scoped>\n",
       "    .dataframe tbody tr th:only-of-type {\n",
       "        vertical-align: middle;\n",
       "    }\n",
       "\n",
       "    .dataframe tbody tr th {\n",
       "        vertical-align: top;\n",
       "    }\n",
       "\n",
       "    .dataframe thead th {\n",
       "        text-align: right;\n",
       "    }\n",
       "</style>\n",
       "<table border=\"1\" class=\"dataframe\">\n",
       "  <thead>\n",
       "    <tr style=\"text-align: right;\">\n",
       "      <th></th>\n",
       "      <th>loanId</th>\n",
       "      <th>installmentIndex</th>\n",
       "      <th>isCollection</th>\n",
       "      <th>paymentDate</th>\n",
       "      <th>principal</th>\n",
       "      <th>fees</th>\n",
       "      <th>paymentAmount</th>\n",
       "      <th>paymentStatus</th>\n",
       "      <th>paymentReturnCode</th>\n",
       "    </tr>\n",
       "  </thead>\n",
       "  <tbody>\n",
       "    <tr>\n",
       "      <th>0</th>\n",
       "      <td>LL-I-00000021</td>\n",
       "      <td>1</td>\n",
       "      <td>False</td>\n",
       "      <td>2014-12-19T05:00:00</td>\n",
       "      <td>22.33</td>\n",
       "      <td>147.28</td>\n",
       "      <td>169.61</td>\n",
       "      <td>Checked</td>\n",
       "      <td>NaN</td>\n",
       "    </tr>\n",
       "    <tr>\n",
       "      <th>1</th>\n",
       "      <td>LL-I-00000021</td>\n",
       "      <td>2</td>\n",
       "      <td>False</td>\n",
       "      <td>2015-01-02T05:00:00</td>\n",
       "      <td>26.44</td>\n",
       "      <td>143.17</td>\n",
       "      <td>169.61</td>\n",
       "      <td>Checked</td>\n",
       "      <td>NaN</td>\n",
       "    </tr>\n",
       "    <tr>\n",
       "      <th>2</th>\n",
       "      <td>LL-I-00000021</td>\n",
       "      <td>3</td>\n",
       "      <td>False</td>\n",
       "      <td>2015-01-16T05:00:00</td>\n",
       "      <td>31.30</td>\n",
       "      <td>138.31</td>\n",
       "      <td>169.61</td>\n",
       "      <td>Checked</td>\n",
       "      <td>NaN</td>\n",
       "    </tr>\n",
       "    <tr>\n",
       "      <th>3</th>\n",
       "      <td>LL-I-00000021</td>\n",
       "      <td>4</td>\n",
       "      <td>False</td>\n",
       "      <td>2015-01-30T05:00:00</td>\n",
       "      <td>37.07</td>\n",
       "      <td>132.54</td>\n",
       "      <td>169.61</td>\n",
       "      <td>Checked</td>\n",
       "      <td>NaN</td>\n",
       "    </tr>\n",
       "    <tr>\n",
       "      <th>4</th>\n",
       "      <td>LL-I-00000021</td>\n",
       "      <td>5</td>\n",
       "      <td>False</td>\n",
       "      <td>2015-02-13T05:00:00</td>\n",
       "      <td>43.89</td>\n",
       "      <td>125.72</td>\n",
       "      <td>169.61</td>\n",
       "      <td>Checked</td>\n",
       "      <td>NaN</td>\n",
       "    </tr>\n",
       "    <tr>\n",
       "      <th>5</th>\n",
       "      <td>LL-I-00000021</td>\n",
       "      <td>6</td>\n",
       "      <td>False</td>\n",
       "      <td>2015-02-27T05:00:00</td>\n",
       "      <td>51.97</td>\n",
       "      <td>117.64</td>\n",
       "      <td>169.61</td>\n",
       "      <td>Checked</td>\n",
       "      <td>NaN</td>\n",
       "    </tr>\n",
       "    <tr>\n",
       "      <th>6</th>\n",
       "      <td>LL-I-00000021</td>\n",
       "      <td>7</td>\n",
       "      <td>False</td>\n",
       "      <td>2015-03-13T04:00:00</td>\n",
       "      <td>61.54</td>\n",
       "      <td>108.07</td>\n",
       "      <td>169.61</td>\n",
       "      <td>Checked</td>\n",
       "      <td>NaN</td>\n",
       "    </tr>\n",
       "    <tr>\n",
       "      <th>7</th>\n",
       "      <td>LL-I-00000021</td>\n",
       "      <td>8</td>\n",
       "      <td>False</td>\n",
       "      <td>2015-03-27T04:00:00</td>\n",
       "      <td>72.87</td>\n",
       "      <td>96.74</td>\n",
       "      <td>169.61</td>\n",
       "      <td>Checked</td>\n",
       "      <td>NaN</td>\n",
       "    </tr>\n",
       "    <tr>\n",
       "      <th>8</th>\n",
       "      <td>LL-I-00000021</td>\n",
       "      <td>9</td>\n",
       "      <td>False</td>\n",
       "      <td>2015-04-10T04:00:00</td>\n",
       "      <td>86.29</td>\n",
       "      <td>83.32</td>\n",
       "      <td>169.61</td>\n",
       "      <td>Checked</td>\n",
       "      <td>NaN</td>\n",
       "    </tr>\n",
       "    <tr>\n",
       "      <th>9</th>\n",
       "      <td>LL-I-00000021</td>\n",
       "      <td>10</td>\n",
       "      <td>False</td>\n",
       "      <td>2015-04-24T04:00:00</td>\n",
       "      <td>102.17</td>\n",
       "      <td>67.44</td>\n",
       "      <td>169.61</td>\n",
       "      <td>Rejected</td>\n",
       "      <td>R01</td>\n",
       "    </tr>\n",
       "  </tbody>\n",
       "</table>\n",
       "</div>"
      ],
      "text/plain": [
       "          loanId  installmentIndex  isCollection          paymentDate  \\\n",
       "0  LL-I-00000021                 1         False  2014-12-19T05:00:00   \n",
       "1  LL-I-00000021                 2         False  2015-01-02T05:00:00   \n",
       "2  LL-I-00000021                 3         False  2015-01-16T05:00:00   \n",
       "3  LL-I-00000021                 4         False  2015-01-30T05:00:00   \n",
       "4  LL-I-00000021                 5         False  2015-02-13T05:00:00   \n",
       "5  LL-I-00000021                 6         False  2015-02-27T05:00:00   \n",
       "6  LL-I-00000021                 7         False  2015-03-13T04:00:00   \n",
       "7  LL-I-00000021                 8         False  2015-03-27T04:00:00   \n",
       "8  LL-I-00000021                 9         False  2015-04-10T04:00:00   \n",
       "9  LL-I-00000021                10         False  2015-04-24T04:00:00   \n",
       "\n",
       "   principal    fees  paymentAmount paymentStatus paymentReturnCode  \n",
       "0      22.33  147.28         169.61       Checked               NaN  \n",
       "1      26.44  143.17         169.61       Checked               NaN  \n",
       "2      31.30  138.31         169.61       Checked               NaN  \n",
       "3      37.07  132.54         169.61       Checked               NaN  \n",
       "4      43.89  125.72         169.61       Checked               NaN  \n",
       "5      51.97  117.64         169.61       Checked               NaN  \n",
       "6      61.54  108.07         169.61       Checked               NaN  \n",
       "7      72.87   96.74         169.61       Checked               NaN  \n",
       "8      86.29   83.32         169.61       Checked               NaN  \n",
       "9     102.17   67.44         169.61      Rejected               R01  "
      ]
     },
     "execution_count": 19,
     "metadata": {},
     "output_type": "execute_result"
    }
   ],
   "source": [
    "payment.head(10)"
   ]
  },
  {
   "cell_type": "code",
   "execution_count": 20,
   "metadata": {},
   "outputs": [
    {
     "data": {
      "text/plain": [
       "loanId                object\n",
       "installmentIndex       int64\n",
       "isCollection            bool\n",
       "paymentDate           object\n",
       "principal            float64\n",
       "fees                 float64\n",
       "paymentAmount        float64\n",
       "paymentStatus         object\n",
       "paymentReturnCode     object\n",
       "dtype: object"
      ]
     },
     "execution_count": 20,
     "metadata": {},
     "output_type": "execute_result"
    }
   ],
   "source": [
    "## Type of payment columns\n",
    "\n",
    "payment.dtypes"
   ]
  },
  {
   "cell_type": "code",
   "execution_count": 21,
   "metadata": {},
   "outputs": [
    {
     "name": "stdout",
     "output_type": "stream",
     "text": [
      "Index(['loanId', 'installmentIndex', 'isCollection', 'paymentDate',\n",
      "       'principal', 'fees', 'paymentAmount', 'paymentStatus',\n",
      "       'paymentReturnCode'],\n",
      "      dtype='object')\n",
      "\n",
      "\n",
      "Statitistic of numerical varables: \n",
      "         installmentIndex      principal           fees  paymentAmount\n",
      "count     689364.000000  689364.000000  689364.000000  689364.000000\n",
      "mean          10.553222      45.557543      67.003994     112.680232\n",
      "std            8.049530      81.724683      59.789510     105.783710\n",
      "min            1.000000    -303.370000     -42.560000    -337.700000\n",
      "25%            5.000000      13.180000      28.820000      56.810000\n",
      "50%            9.000000      27.610000      51.300000      86.340000\n",
      "75%           14.000000      53.380000      86.440000     135.090000\n",
      "max          105.000000    4000.000000    1257.710000    4063.600000\n"
     ]
    }
   ],
   "source": [
    "## Inspect loan data column\n",
    "\n",
    "print (payment.columns)\n",
    "print('\\n')\n",
    "print('Statitistic of numerical varables: \\n ' , payment.describe())"
   ]
  },
  {
   "cell_type": "code",
   "execution_count": 22,
   "metadata": {},
   "outputs": [
    {
     "name": "stdout",
     "output_type": "stream",
     "text": [
      "Number of rows of payment data  689364\n",
      "Number of unique loanId in payment data 39952\n"
     ]
    }
   ],
   "source": [
    "## Inspect Number of Rows and Number of loanID\n",
    "print('Number of rows of payment data ', len(payment))\n",
    "print('Number of unique loanId in payment data', len(set(payment['loanId'])))"
   ]
  },
  {
   "cell_type": "code",
   "execution_count": 23,
   "metadata": {},
   "outputs": [
    {
     "data": {
      "text/plain": [
       "loanId                    0\n",
       "installmentIndex          0\n",
       "isCollection              0\n",
       "paymentDate               0\n",
       "principal                 0\n",
       "fees                      0\n",
       "paymentAmount             0\n",
       "paymentStatus             0\n",
       "paymentReturnCode    657831\n",
       "dtype: int64"
      ]
     },
     "execution_count": 23,
     "metadata": {},
     "output_type": "execute_result"
    }
   ],
   "source": [
    "## Check null vlaues for payment data frame\n",
    "\n",
    "payment.isnull().sum()"
   ]
  },
  {
   "cell_type": "markdown",
   "metadata": {},
   "source": [
    "# 2.1 Graph Exploratory Analysis"
   ]
  },
  {
   "cell_type": "code",
   "execution_count": 24,
   "metadata": {},
   "outputs": [
    {
     "data": {
      "image/png": "[encoded data removed]",
      "text/plain": [
       "<Figure size 720x360 with 1 Axes>"
      ]
     },
     "metadata": {},
     "output_type": "display_data"
    }
   ],
   "source": [
    "#is Collection Columns\n",
    "\n",
    "%matplotlib inline\n",
    "\n",
    "ax = payment['isCollection'].value_counts().plot(kind='bar', figsize=(10, 5), legend=False, fontsize=12,color='b')\n",
    "ax.set_xlabel(\"isCollection Category\", fontsize=13)\n",
    "ax.set_ylabel(\"Number of Payment Transactions\", fontsize=13)\n",
    "ax.set_title(\"isCollection Distribuiton\", fontname='Comic Sans MS', fontsize=20)\n",
    "plt.show()"
   ]
  },
  {
   "cell_type": "code",
   "execution_count": 25,
   "metadata": {},
   "outputs": [
    {
     "data": {
      "image/png": "[encoded data removed]",
      "text/plain": [
       "<Figure size 720x360 with 1 Axes>"
      ]
     },
     "metadata": {},
     "output_type": "display_data"
    }
   ],
   "source": [
    "#paymentStatus Columns\n",
    "\n",
    "%matplotlib inline\n",
    "\n",
    "ax = payment['paymentStatus'].value_counts().plot(kind='bar', figsize=(10, 5), legend=False, fontsize=12,color='green')\n",
    "ax.set_xlabel(\"Payment Status Category\", fontsize=13)\n",
    "ax.set_ylabel(\"Number of Payment Transactions\", fontsize=13)\n",
    "ax.set_title(\"Payment Status Distribuiton\", fontname='Comic Sans MS', fontsize=20)\n",
    "plt.show()"
   ]
  },
  {
   "cell_type": "code",
   "execution_count": 26,
   "metadata": {},
   "outputs": [
    {
     "data": {
      "text/plain": [
       "Cancelled                  270334\n",
       "Checked                    209621\n",
       "None                       164057\n",
       "Rejected                    32330\n",
       "Pending                      9241\n",
       "Skipped                      3761\n",
       "Rejected Awaiting Retry        18\n",
       "Complete                        1\n",
       "Returned                        1\n",
       "Name: paymentStatus, dtype: int64"
      ]
     },
     "execution_count": 26,
     "metadata": {},
     "output_type": "execute_result"
    }
   ],
   "source": [
    "payment['paymentStatus'].value_counts()"
   ]
  },
  {
   "cell_type": "markdown",
   "metadata": {},
   "source": [
    "# 3. Clarity UnderWritting Variables Data Exploratory Analysis"
   ]
  },
  {
   "cell_type": "code",
   "execution_count": 27,
   "metadata": {},
   "outputs": [
    {
     "data": {
      "text/html": [
       "<div>\n",
       "<style scoped>\n",
       "    .dataframe tbody tr th:only-of-type {\n",
       "        vertical-align: middle;\n",
       "    }\n",
       "\n",
       "    .dataframe tbody tr th {\n",
       "        vertical-align: top;\n",
       "    }\n",
       "\n",
       "    .dataframe thead th {\n",
       "        text-align: right;\n",
       "    }\n",
       "</style>\n",
       "<table border=\"1\" class=\"dataframe\">\n",
       "  <thead>\n",
       "    <tr style=\"text-align: right;\">\n",
       "      <th></th>\n",
       "      <th>.underwritingdataclarity.clearfraud.clearfraudinquiry.thirtydaysago</th>\n",
       "      <th>.underwritingdataclarity.clearfraud.clearfraudinquiry.twentyfourhoursago</th>\n",
       "      <th>.underwritingdataclarity.clearfraud.clearfraudinquiry.oneminuteago</th>\n",
       "      <th>.underwritingdataclarity.clearfraud.clearfraudinquiry.onehourago</th>\n",
       "      <th>.underwritingdataclarity.clearfraud.clearfraudinquiry.ninetydaysago</th>\n",
       "      <th>.underwritingdataclarity.clearfraud.clearfraudinquiry.sevendaysago</th>\n",
       "      <th>.underwritingdataclarity.clearfraud.clearfraudinquiry.tenminutesago</th>\n",
       "      <th>.underwritingdataclarity.clearfraud.clearfraudinquiry.fifteendaysago</th>\n",
       "      <th>.underwritingdataclarity.clearfraud.clearfraudinquiry.threesixtyfivedaysago</th>\n",
       "      <th>.underwritingdataclarity.clearfraud.clearfraudindicator.inquiryonfilecurrentaddressconflict</th>\n",
       "      <th>...</th>\n",
       "      <th>.underwritingdataclarity.clearfraud.clearfraudidentityverification.phonematchtypedescription</th>\n",
       "      <th>.underwritingdataclarity.clearfraud.clearfraudidentityverification.overallmatchresult</th>\n",
       "      <th>.underwritingdataclarity.clearfraud.clearfraudidentityverification.phonetype</th>\n",
       "      <th>.underwritingdataclarity.clearfraud.clearfraudidentityverification.ssndobreasoncode</th>\n",
       "      <th>.underwritingdataclarity.clearfraud.clearfraudidentityverification.ssnnamereasoncode</th>\n",
       "      <th>.underwritingdataclarity.clearfraud.clearfraudidentityverification.nameaddressreasoncode</th>\n",
       "      <th>.underwritingdataclarity.clearfraud.clearfraudidentityverification.ssndobmatch</th>\n",
       "      <th>.underwritingdataclarity.clearfraud.clearfraudidentityverification.overallmatchreasoncode</th>\n",
       "      <th>clearfraudscore</th>\n",
       "      <th>underwritingid</th>\n",
       "    </tr>\n",
       "  </thead>\n",
       "  <tbody>\n",
       "    <tr>\n",
       "      <th>0</th>\n",
       "      <td>8.0</td>\n",
       "      <td>2.0</td>\n",
       "      <td>2.0</td>\n",
       "      <td>2.0</td>\n",
       "      <td>8.0</td>\n",
       "      <td>2.0</td>\n",
       "      <td>2.0</td>\n",
       "      <td>5.0</td>\n",
       "      <td>10.0</td>\n",
       "      <td>False</td>\n",
       "      <td>...</td>\n",
       "      <td>(M) Mobile Phone</td>\n",
       "      <td>partial</td>\n",
       "      <td>NaN</td>\n",
       "      <td>NaN</td>\n",
       "      <td>NaN</td>\n",
       "      <td>A8</td>\n",
       "      <td>match</td>\n",
       "      <td>6.0</td>\n",
       "      <td>871.0</td>\n",
       "      <td>54cbffcee4b0ba763e43144d</td>\n",
       "    </tr>\n",
       "    <tr>\n",
       "      <th>1</th>\n",
       "      <td>5.0</td>\n",
       "      <td>2.0</td>\n",
       "      <td>2.0</td>\n",
       "      <td>2.0</td>\n",
       "      <td>11.0</td>\n",
       "      <td>2.0</td>\n",
       "      <td>2.0</td>\n",
       "      <td>4.0</td>\n",
       "      <td>21.0</td>\n",
       "      <td>True</td>\n",
       "      <td>...</td>\n",
       "      <td>(M) Mobile Phone</td>\n",
       "      <td>partial</td>\n",
       "      <td>NaN</td>\n",
       "      <td>NaN</td>\n",
       "      <td>NaN</td>\n",
       "      <td>NaN</td>\n",
       "      <td>match</td>\n",
       "      <td>11.0</td>\n",
       "      <td>397.0</td>\n",
       "      <td>54cc0408e4b0418d9a7f78af</td>\n",
       "    </tr>\n",
       "    <tr>\n",
       "      <th>2</th>\n",
       "      <td>9.0</td>\n",
       "      <td>4.0</td>\n",
       "      <td>2.0</td>\n",
       "      <td>3.0</td>\n",
       "      <td>10.0</td>\n",
       "      <td>8.0</td>\n",
       "      <td>2.0</td>\n",
       "      <td>9.0</td>\n",
       "      <td>25.0</td>\n",
       "      <td>False</td>\n",
       "      <td>...</td>\n",
       "      <td>(M) Mobile Phone</td>\n",
       "      <td>match</td>\n",
       "      <td>NaN</td>\n",
       "      <td>NaN</td>\n",
       "      <td>NaN</td>\n",
       "      <td>NaN</td>\n",
       "      <td>match</td>\n",
       "      <td>1.0</td>\n",
       "      <td>572.0</td>\n",
       "      <td>54cc0683e4b0418d9a80adb6</td>\n",
       "    </tr>\n",
       "    <tr>\n",
       "      <th>3</th>\n",
       "      <td>3.0</td>\n",
       "      <td>2.0</td>\n",
       "      <td>2.0</td>\n",
       "      <td>2.0</td>\n",
       "      <td>9.0</td>\n",
       "      <td>2.0</td>\n",
       "      <td>2.0</td>\n",
       "      <td>2.0</td>\n",
       "      <td>9.0</td>\n",
       "      <td>False</td>\n",
       "      <td>...</td>\n",
       "      <td>(M) Mobile Phone</td>\n",
       "      <td>partial</td>\n",
       "      <td>NaN</td>\n",
       "      <td>NaN</td>\n",
       "      <td>NaN</td>\n",
       "      <td>NaN</td>\n",
       "      <td>match</td>\n",
       "      <td>11.0</td>\n",
       "      <td>838.0</td>\n",
       "      <td>54cc0780e4b0ba763e43b74a</td>\n",
       "    </tr>\n",
       "    <tr>\n",
       "      <th>4</th>\n",
       "      <td>5.0</td>\n",
       "      <td>5.0</td>\n",
       "      <td>2.0</td>\n",
       "      <td>2.0</td>\n",
       "      <td>6.0</td>\n",
       "      <td>5.0</td>\n",
       "      <td>2.0</td>\n",
       "      <td>5.0</td>\n",
       "      <td>6.0</td>\n",
       "      <td>False</td>\n",
       "      <td>...</td>\n",
       "      <td>(M) Mobile Phone</td>\n",
       "      <td>match</td>\n",
       "      <td>NaN</td>\n",
       "      <td>NaN</td>\n",
       "      <td>NaN</td>\n",
       "      <td>NaN</td>\n",
       "      <td>match</td>\n",
       "      <td>1.0</td>\n",
       "      <td>768.0</td>\n",
       "      <td>54cc1d67e4b0ba763e445b45</td>\n",
       "    </tr>\n",
       "  </tbody>\n",
       "</table>\n",
       "<p>5 rows × 54 columns</p>\n",
       "</div>"
      ],
      "text/plain": [
       "   .underwritingdataclarity.clearfraud.clearfraudinquiry.thirtydaysago  \\\n",
       "0                                                8.0                     \n",
       "1                                                5.0                     \n",
       "2                                                9.0                     \n",
       "3                                                3.0                     \n",
       "4                                                5.0                     \n",
       "\n",
       "   .underwritingdataclarity.clearfraud.clearfraudinquiry.twentyfourhoursago  \\\n",
       "0                                                2.0                          \n",
       "1                                                2.0                          \n",
       "2                                                4.0                          \n",
       "3                                                2.0                          \n",
       "4                                                5.0                          \n",
       "\n",
       "   .underwritingdataclarity.clearfraud.clearfraudinquiry.oneminuteago  \\\n",
       "0                                                2.0                    \n",
       "1                                                2.0                    \n",
       "2                                                2.0                    \n",
       "3                                                2.0                    \n",
       "4                                                2.0                    \n",
       "\n",
       "   .underwritingdataclarity.clearfraud.clearfraudinquiry.onehourago  \\\n",
       "0                                                2.0                  \n",
       "1                                                2.0                  \n",
       "2                                                3.0                  \n",
       "3                                                2.0                  \n",
       "4                                                2.0                  \n",
       "\n",
       "   .underwritingdataclarity.clearfraud.clearfraudinquiry.ninetydaysago  \\\n",
       "0                                                8.0                     \n",
       "1                                               11.0                     \n",
       "2                                               10.0                     \n",
       "3                                                9.0                     \n",
       "4                                                6.0                     \n",
       "\n",
       "   .underwritingdataclarity.clearfraud.clearfraudinquiry.sevendaysago  \\\n",
       "0                                                2.0                    \n",
       "1                                                2.0                    \n",
       "2                                                8.0                    \n",
       "3                                                2.0                    \n",
       "4                                                5.0                    \n",
       "\n",
       "   .underwritingdataclarity.clearfraud.clearfraudinquiry.tenminutesago  \\\n",
       "0                                                2.0                     \n",
       "1                                                2.0                     \n",
       "2                                                2.0                     \n",
       "3                                                2.0                     \n",
       "4                                                2.0                     \n",
       "\n",
       "   .underwritingdataclarity.clearfraud.clearfraudinquiry.fifteendaysago  \\\n",
       "0                                                5.0                      \n",
       "1                                                4.0                      \n",
       "2                                                9.0                      \n",
       "3                                                2.0                      \n",
       "4                                                5.0                      \n",
       "\n",
       "   .underwritingdataclarity.clearfraud.clearfraudinquiry.threesixtyfivedaysago  \\\n",
       "0                                               10.0                             \n",
       "1                                               21.0                             \n",
       "2                                               25.0                             \n",
       "3                                                9.0                             \n",
       "4                                                6.0                             \n",
       "\n",
       "  .underwritingdataclarity.clearfraud.clearfraudindicator.inquiryonfilecurrentaddressconflict  \\\n",
       "0                                              False                                            \n",
       "1                                               True                                            \n",
       "2                                              False                                            \n",
       "3                                              False                                            \n",
       "4                                              False                                            \n",
       "\n",
       "   ...  \\\n",
       "0  ...   \n",
       "1  ...   \n",
       "2  ...   \n",
       "3  ...   \n",
       "4  ...   \n",
       "\n",
       "   .underwritingdataclarity.clearfraud.clearfraudidentityverification.phonematchtypedescription  \\\n",
       "0                                   (M) Mobile Phone                                              \n",
       "1                                   (M) Mobile Phone                                              \n",
       "2                                   (M) Mobile Phone                                              \n",
       "3                                   (M) Mobile Phone                                              \n",
       "4                                   (M) Mobile Phone                                              \n",
       "\n",
       "  .underwritingdataclarity.clearfraud.clearfraudidentityverification.overallmatchresult  \\\n",
       "0                                            partial                                      \n",
       "1                                            partial                                      \n",
       "2                                              match                                      \n",
       "3                                            partial                                      \n",
       "4                                              match                                      \n",
       "\n",
       "  .underwritingdataclarity.clearfraud.clearfraudidentityverification.phonetype  \\\n",
       "0                                                NaN                             \n",
       "1                                                NaN                             \n",
       "2                                                NaN                             \n",
       "3                                                NaN                             \n",
       "4                                                NaN                             \n",
       "\n",
       "  .underwritingdataclarity.clearfraud.clearfraudidentityverification.ssndobreasoncode  \\\n",
       "0                                                NaN                                    \n",
       "1                                                NaN                                    \n",
       "2                                                NaN                                    \n",
       "3                                                NaN                                    \n",
       "4                                                NaN                                    \n",
       "\n",
       "  .underwritingdataclarity.clearfraud.clearfraudidentityverification.ssnnamereasoncode  \\\n",
       "0                                                NaN                                     \n",
       "1                                                NaN                                     \n",
       "2                                                NaN                                     \n",
       "3                                                NaN                                     \n",
       "4                                                NaN                                     \n",
       "\n",
       "  .underwritingdataclarity.clearfraud.clearfraudidentityverification.nameaddressreasoncode  \\\n",
       "0                                                 A8                                         \n",
       "1                                                NaN                                         \n",
       "2                                                NaN                                         \n",
       "3                                                NaN                                         \n",
       "4                                                NaN                                         \n",
       "\n",
       "  .underwritingdataclarity.clearfraud.clearfraudidentityverification.ssndobmatch  \\\n",
       "0                                              match                               \n",
       "1                                              match                               \n",
       "2                                              match                               \n",
       "3                                              match                               \n",
       "4                                              match                               \n",
       "\n",
       "  .underwritingdataclarity.clearfraud.clearfraudidentityverification.overallmatchreasoncode  \\\n",
       "0                                                6.0                                          \n",
       "1                                               11.0                                          \n",
       "2                                                1.0                                          \n",
       "3                                               11.0                                          \n",
       "4                                                1.0                                          \n",
       "\n",
       "  clearfraudscore            underwritingid  \n",
       "0           871.0  54cbffcee4b0ba763e43144d  \n",
       "1           397.0  54cc0408e4b0418d9a7f78af  \n",
       "2           572.0  54cc0683e4b0418d9a80adb6  \n",
       "3           838.0  54cc0780e4b0ba763e43b74a  \n",
       "4           768.0  54cc1d67e4b0ba763e445b45  \n",
       "\n",
       "[5 rows x 54 columns]"
      ]
     },
     "execution_count": 27,
     "metadata": {},
     "output_type": "execute_result"
    }
   ],
   "source": [
    "clarity.head()"
   ]
  },
  {
   "cell_type": "code",
   "execution_count": 28,
   "metadata": {},
   "outputs": [
    {
     "data": {
      "text/plain": [
       "Index(['.underwritingdataclarity.clearfraud.clearfraudinquiry.thirtydaysago',\n",
       "       '.underwritingdataclarity.clearfraud.clearfraudinquiry.twentyfourhoursago',\n",
       "       '.underwritingdataclarity.clearfraud.clearfraudinquiry.oneminuteago',\n",
       "       '.underwritingdataclarity.clearfraud.clearfraudinquiry.onehourago',\n",
       "       '.underwritingdataclarity.clearfraud.clearfraudinquiry.ninetydaysago',\n",
       "       '.underwritingdataclarity.clearfraud.clearfraudinquiry.sevendaysago',\n",
       "       '.underwritingdataclarity.clearfraud.clearfraudinquiry.tenminutesago',\n",
       "       '.underwritingdataclarity.clearfraud.clearfraudinquiry.fifteendaysago',\n",
       "       '.underwritingdataclarity.clearfraud.clearfraudinquiry.threesixtyfivedaysago',\n",
       "       '.underwritingdataclarity.clearfraud.clearfraudindicator.inquiryonfilecurrentaddressconflict',\n",
       "       '.underwritingdataclarity.clearfraud.clearfraudindicator.totalnumberoffraudindicators',\n",
       "       '.underwritingdataclarity.clearfraud.clearfraudindicator.telephonenumberinconsistentwithaddress',\n",
       "       '.underwritingdataclarity.clearfraud.clearfraudindicator.inquiryageyoungerthanssnissuedate',\n",
       "       '.underwritingdataclarity.clearfraud.clearfraudindicator.onfileaddresscautious',\n",
       "       '.underwritingdataclarity.clearfraud.clearfraudindicator.inquiryaddressnonresidential',\n",
       "       '.underwritingdataclarity.clearfraud.clearfraudindicator.onfileaddresshighrisk',\n",
       "       '.underwritingdataclarity.clearfraud.clearfraudindicator.ssnreportedmorefrequentlyforanother',\n",
       "       '.underwritingdataclarity.clearfraud.clearfraudindicator.currentaddressreportedbytradeopenlt90days',\n",
       "       '.underwritingdataclarity.clearfraud.clearfraudindicator.inputssninvalid',\n",
       "       '.underwritingdataclarity.clearfraud.clearfraudindicator.inputssnissuedatecannotbeverified',\n",
       "       '.underwritingdataclarity.clearfraud.clearfraudindicator.inquiryaddresscautious',\n",
       "       '.underwritingdataclarity.clearfraud.clearfraudindicator.morethan3inquiriesinthelast30days',\n",
       "       '.underwritingdataclarity.clearfraud.clearfraudindicator.onfileaddressnonresidential',\n",
       "       '.underwritingdataclarity.clearfraud.clearfraudindicator.creditestablishedpriortossnissuedate',\n",
       "       '.underwritingdataclarity.clearfraud.clearfraudindicator.driverlicenseformatinvalid',\n",
       "       '.underwritingdataclarity.clearfraud.clearfraudindicator.inputssnrecordedasdeceased',\n",
       "       '.underwritingdataclarity.clearfraud.clearfraudindicator.inquiryaddresshighrisk',\n",
       "       '.underwritingdataclarity.clearfraud.clearfraudindicator.inquirycurrentaddressnotonfile',\n",
       "       '.underwritingdataclarity.clearfraud.clearfraudindicator.bestonfilessnissuedatecannotbeverified',\n",
       "       '.underwritingdataclarity.clearfraud.clearfraudindicator.highprobabilityssnbelongstoanother',\n",
       "       '.underwritingdataclarity.clearfraud.clearfraudindicator.maxnumberofssnswithanybankaccount',\n",
       "       '.underwritingdataclarity.clearfraud.clearfraudindicator.bestonfilessnrecordedasdeceased',\n",
       "       '.underwritingdataclarity.clearfraud.clearfraudindicator.currentaddressreportedbynewtradeonly',\n",
       "       '.underwritingdataclarity.clearfraud.clearfraudindicator.creditestablishedbeforeage18',\n",
       "       '.underwritingdataclarity.clearfraud.clearfraudindicator.telephonenumberinconsistentwithstate',\n",
       "       '.underwritingdataclarity.clearfraud.clearfraudindicator.driverlicenseinconsistentwithonfile',\n",
       "       '.underwritingdataclarity.clearfraud.clearfraudindicator.workphonepreviouslylistedascellphone',\n",
       "       '.underwritingdataclarity.clearfraud.clearfraudindicator.workphonepreviouslylistedashomephone',\n",
       "       '.underwritingdataclarity.clearfraud.clearfraudidentityverification.ssnnamematch',\n",
       "       '.underwritingdataclarity.clearfraud.clearfraudidentityverification.nameaddressmatch',\n",
       "       '.underwritingdataclarity.clearfraud.clearfraudidentityverification.phonematchtype',\n",
       "       '.underwritingdataclarity.clearfraud.clearfraudidentityverification.ssnnamereasoncodedescription',\n",
       "       '.underwritingdataclarity.clearfraud.clearfraudidentityverification.phonematchresult',\n",
       "       '.underwritingdataclarity.clearfraud.clearfraudidentityverification.nameaddressreasoncodedescription',\n",
       "       '.underwritingdataclarity.clearfraud.clearfraudidentityverification.phonematchtypedescription',\n",
       "       '.underwritingdataclarity.clearfraud.clearfraudidentityverification.overallmatchresult',\n",
       "       '.underwritingdataclarity.clearfraud.clearfraudidentityverification.phonetype',\n",
       "       '.underwritingdataclarity.clearfraud.clearfraudidentityverification.ssndobreasoncode',\n",
       "       '.underwritingdataclarity.clearfraud.clearfraudidentityverification.ssnnamereasoncode',\n",
       "       '.underwritingdataclarity.clearfraud.clearfraudidentityverification.nameaddressreasoncode',\n",
       "       '.underwritingdataclarity.clearfraud.clearfraudidentityverification.ssndobmatch',\n",
       "       '.underwritingdataclarity.clearfraud.clearfraudidentityverification.overallmatchreasoncode',\n",
       "       'clearfraudscore', 'underwritingid'],\n",
       "      dtype='object')"
      ]
     },
     "execution_count": 28,
     "metadata": {},
     "output_type": "execute_result"
    }
   ],
   "source": [
    "## Inspect columns\n",
    "\n",
    "clarity.columns"
   ]
  },
  {
   "cell_type": "code",
   "execution_count": 29,
   "metadata": {},
   "outputs": [
    {
     "data": {
      "text/plain": [
       ".underwritingdataclarity.clearfraud.clearfraudinquiry.thirtydaysago                                    float64\n",
       ".underwritingdataclarity.clearfraud.clearfraudinquiry.twentyfourhoursago                               float64\n",
       ".underwritingdataclarity.clearfraud.clearfraudinquiry.oneminuteago                                     float64\n",
       ".underwritingdataclarity.clearfraud.clearfraudinquiry.onehourago                                       float64\n",
       ".underwritingdataclarity.clearfraud.clearfraudinquiry.ninetydaysago                                    float64\n",
       ".underwritingdataclarity.clearfraud.clearfraudinquiry.sevendaysago                                     float64\n",
       ".underwritingdataclarity.clearfraud.clearfraudinquiry.tenminutesago                                    float64\n",
       ".underwritingdataclarity.clearfraud.clearfraudinquiry.fifteendaysago                                   float64\n",
       ".underwritingdataclarity.clearfraud.clearfraudinquiry.threesixtyfivedaysago                            float64\n",
       ".underwritingdataclarity.clearfraud.clearfraudindicator.inquiryonfilecurrentaddressconflict             object\n",
       ".underwritingdataclarity.clearfraud.clearfraudindicator.totalnumberoffraudindicators                   float64\n",
       ".underwritingdataclarity.clearfraud.clearfraudindicator.telephonenumberinconsistentwithaddress          object\n",
       ".underwritingdataclarity.clearfraud.clearfraudindicator.inquiryageyoungerthanssnissuedate               object\n",
       ".underwritingdataclarity.clearfraud.clearfraudindicator.onfileaddresscautious                           object\n",
       ".underwritingdataclarity.clearfraud.clearfraudindicator.inquiryaddressnonresidential                    object\n",
       ".underwritingdataclarity.clearfraud.clearfraudindicator.onfileaddresshighrisk                           object\n",
       ".underwritingdataclarity.clearfraud.clearfraudindicator.ssnreportedmorefrequentlyforanother             object\n",
       ".underwritingdataclarity.clearfraud.clearfraudindicator.currentaddressreportedbytradeopenlt90days       object\n",
       ".underwritingdataclarity.clearfraud.clearfraudindicator.inputssninvalid                                 object\n",
       ".underwritingdataclarity.clearfraud.clearfraudindicator.inputssnissuedatecannotbeverified               object\n",
       ".underwritingdataclarity.clearfraud.clearfraudindicator.inquiryaddresscautious                          object\n",
       ".underwritingdataclarity.clearfraud.clearfraudindicator.morethan3inquiriesinthelast30days               object\n",
       ".underwritingdataclarity.clearfraud.clearfraudindicator.onfileaddressnonresidential                     object\n",
       ".underwritingdataclarity.clearfraud.clearfraudindicator.creditestablishedpriortossnissuedate            object\n",
       ".underwritingdataclarity.clearfraud.clearfraudindicator.driverlicenseformatinvalid                      object\n",
       ".underwritingdataclarity.clearfraud.clearfraudindicator.inputssnrecordedasdeceased                      object\n",
       ".underwritingdataclarity.clearfraud.clearfraudindicator.inquiryaddresshighrisk                          object\n",
       ".underwritingdataclarity.clearfraud.clearfraudindicator.inquirycurrentaddressnotonfile                  object\n",
       ".underwritingdataclarity.clearfraud.clearfraudindicator.bestonfilessnissuedatecannotbeverified          object\n",
       ".underwritingdataclarity.clearfraud.clearfraudindicator.highprobabilityssnbelongstoanother              object\n",
       ".underwritingdataclarity.clearfraud.clearfraudindicator.maxnumberofssnswithanybankaccount              float64\n",
       ".underwritingdataclarity.clearfraud.clearfraudindicator.bestonfilessnrecordedasdeceased                 object\n",
       ".underwritingdataclarity.clearfraud.clearfraudindicator.currentaddressreportedbynewtradeonly            object\n",
       ".underwritingdataclarity.clearfraud.clearfraudindicator.creditestablishedbeforeage18                    object\n",
       ".underwritingdataclarity.clearfraud.clearfraudindicator.telephonenumberinconsistentwithstate            object\n",
       ".underwritingdataclarity.clearfraud.clearfraudindicator.driverlicenseinconsistentwithonfile             object\n",
       ".underwritingdataclarity.clearfraud.clearfraudindicator.workphonepreviouslylistedascellphone            object\n",
       ".underwritingdataclarity.clearfraud.clearfraudindicator.workphonepreviouslylistedashomephone            object\n",
       ".underwritingdataclarity.clearfraud.clearfraudidentityverification.ssnnamematch                         object\n",
       ".underwritingdataclarity.clearfraud.clearfraudidentityverification.nameaddressmatch                     object\n",
       ".underwritingdataclarity.clearfraud.clearfraudidentityverification.phonematchtype                       object\n",
       ".underwritingdataclarity.clearfraud.clearfraudidentityverification.ssnnamereasoncodedescription         object\n",
       ".underwritingdataclarity.clearfraud.clearfraudidentityverification.phonematchresult                     object\n",
       ".underwritingdataclarity.clearfraud.clearfraudidentityverification.nameaddressreasoncodedescription     object\n",
       ".underwritingdataclarity.clearfraud.clearfraudidentityverification.phonematchtypedescription            object\n",
       ".underwritingdataclarity.clearfraud.clearfraudidentityverification.overallmatchresult                   object\n",
       ".underwritingdataclarity.clearfraud.clearfraudidentityverification.phonetype                            object\n",
       ".underwritingdataclarity.clearfraud.clearfraudidentityverification.ssndobreasoncode                     object\n",
       ".underwritingdataclarity.clearfraud.clearfraudidentityverification.ssnnamereasoncode                    object\n",
       ".underwritingdataclarity.clearfraud.clearfraudidentityverification.nameaddressreasoncode                object\n",
       ".underwritingdataclarity.clearfraud.clearfraudidentityverification.ssndobmatch                          object\n",
       ".underwritingdataclarity.clearfraud.clearfraudidentityverification.overallmatchreasoncode              float64\n",
       "clearfraudscore                                                                                        float64\n",
       "underwritingid                                                                                          object\n",
       "dtype: object"
      ]
     },
     "execution_count": 29,
     "metadata": {},
     "output_type": "execute_result"
    }
   ],
   "source": [
    "clarity.dtypes"
   ]
  },
  {
   "cell_type": "code",
   "execution_count": 30,
   "metadata": {},
   "outputs": [
    {
     "data": {
      "text/plain": [
       ".underwritingdataclarity.clearfraud.clearfraudinquiry.thirtydaysago                                        2\n",
       ".underwritingdataclarity.clearfraud.clearfraudinquiry.twentyfourhoursago                                   2\n",
       ".underwritingdataclarity.clearfraud.clearfraudinquiry.oneminuteago                                         2\n",
       ".underwritingdataclarity.clearfraud.clearfraudinquiry.onehourago                                           2\n",
       ".underwritingdataclarity.clearfraud.clearfraudinquiry.ninetydaysago                                        2\n",
       ".underwritingdataclarity.clearfraud.clearfraudinquiry.sevendaysago                                         2\n",
       ".underwritingdataclarity.clearfraud.clearfraudinquiry.tenminutesago                                        2\n",
       ".underwritingdataclarity.clearfraud.clearfraudinquiry.fifteendaysago                                       2\n",
       ".underwritingdataclarity.clearfraud.clearfraudinquiry.threesixtyfivedaysago                                2\n",
       ".underwritingdataclarity.clearfraud.clearfraudindicator.inquiryonfilecurrentaddressconflict               40\n",
       ".underwritingdataclarity.clearfraud.clearfraudindicator.totalnumberoffraudindicators                      17\n",
       ".underwritingdataclarity.clearfraud.clearfraudindicator.telephonenumberinconsistentwithaddress            40\n",
       ".underwritingdataclarity.clearfraud.clearfraudindicator.inquiryageyoungerthanssnissuedate                 40\n",
       ".underwritingdataclarity.clearfraud.clearfraudindicator.onfileaddresscautious                             40\n",
       ".underwritingdataclarity.clearfraud.clearfraudindicator.inquiryaddressnonresidential                      40\n",
       ".underwritingdataclarity.clearfraud.clearfraudindicator.onfileaddresshighrisk                             40\n",
       ".underwritingdataclarity.clearfraud.clearfraudindicator.ssnreportedmorefrequentlyforanother               40\n",
       ".underwritingdataclarity.clearfraud.clearfraudindicator.currentaddressreportedbytradeopenlt90days         40\n",
       ".underwritingdataclarity.clearfraud.clearfraudindicator.inputssninvalid                                   40\n",
       ".underwritingdataclarity.clearfraud.clearfraudindicator.inputssnissuedatecannotbeverified                 40\n",
       ".underwritingdataclarity.clearfraud.clearfraudindicator.inquiryaddresscautious                            40\n",
       ".underwritingdataclarity.clearfraud.clearfraudindicator.morethan3inquiriesinthelast30days                 40\n",
       ".underwritingdataclarity.clearfraud.clearfraudindicator.onfileaddressnonresidential                       40\n",
       ".underwritingdataclarity.clearfraud.clearfraudindicator.creditestablishedpriortossnissuedate              40\n",
       ".underwritingdataclarity.clearfraud.clearfraudindicator.driverlicenseformatinvalid                      5049\n",
       ".underwritingdataclarity.clearfraud.clearfraudindicator.inputssnrecordedasdeceased                        40\n",
       ".underwritingdataclarity.clearfraud.clearfraudindicator.inquiryaddresshighrisk                            40\n",
       ".underwritingdataclarity.clearfraud.clearfraudindicator.inquirycurrentaddressnotonfile                    40\n",
       ".underwritingdataclarity.clearfraud.clearfraudindicator.bestonfilessnissuedatecannotbeverified            40\n",
       ".underwritingdataclarity.clearfraud.clearfraudindicator.highprobabilityssnbelongstoanother                40\n",
       ".underwritingdataclarity.clearfraud.clearfraudindicator.maxnumberofssnswithanybankaccount                 17\n",
       ".underwritingdataclarity.clearfraud.clearfraudindicator.bestonfilessnrecordedasdeceased                   40\n",
       ".underwritingdataclarity.clearfraud.clearfraudindicator.currentaddressreportedbynewtradeonly              40\n",
       ".underwritingdataclarity.clearfraud.clearfraudindicator.creditestablishedbeforeage18                      40\n",
       ".underwritingdataclarity.clearfraud.clearfraudindicator.telephonenumberinconsistentwithstate             681\n",
       ".underwritingdataclarity.clearfraud.clearfraudindicator.driverlicenseinconsistentwithonfile            39697\n",
       ".underwritingdataclarity.clearfraud.clearfraudindicator.workphonepreviouslylistedascellphone           28336\n",
       ".underwritingdataclarity.clearfraud.clearfraudindicator.workphonepreviouslylistedashomephone           28336\n",
       ".underwritingdataclarity.clearfraud.clearfraudidentityverification.ssnnamematch                           32\n",
       ".underwritingdataclarity.clearfraud.clearfraudidentityverification.nameaddressmatch                       32\n",
       ".underwritingdataclarity.clearfraud.clearfraudidentityverification.phonematchtype                        953\n",
       ".underwritingdataclarity.clearfraud.clearfraudidentityverification.ssnnamereasoncodedescription        47083\n",
       ".underwritingdataclarity.clearfraud.clearfraudidentityverification.phonematchresult                       40\n",
       ".underwritingdataclarity.clearfraud.clearfraudidentityverification.nameaddressreasoncodedescription    44125\n",
       ".underwritingdataclarity.clearfraud.clearfraudidentityverification.phonematchtypedescription             953\n",
       ".underwritingdataclarity.clearfraud.clearfraudidentityverification.overallmatchresult                     32\n",
       ".underwritingdataclarity.clearfraud.clearfraudidentityverification.phonetype                           48237\n",
       ".underwritingdataclarity.clearfraud.clearfraudidentityverification.ssndobreasoncode                    40723\n",
       ".underwritingdataclarity.clearfraud.clearfraudidentityverification.ssnnamereasoncode                   47083\n",
       ".underwritingdataclarity.clearfraud.clearfraudidentityverification.nameaddressreasoncode               44125\n",
       ".underwritingdataclarity.clearfraud.clearfraudidentityverification.ssndobmatch                            32\n",
       ".underwritingdataclarity.clearfraud.clearfraudidentityverification.overallmatchreasoncode                 32\n",
       "clearfraudscore                                                                                          137\n",
       "underwritingid                                                                                             0\n",
       "dtype: int64"
      ]
     },
     "execution_count": 30,
     "metadata": {},
     "output_type": "execute_result"
    }
   ],
   "source": [
    "clarity.isnull().sum()"
   ]
  },
  {
   "cell_type": "code",
   "execution_count": 31,
   "metadata": {},
   "outputs": [
    {
     "data": {
      "text/plain": [
       "49752"
      ]
     },
     "execution_count": 31,
     "metadata": {},
     "output_type": "execute_result"
    }
   ],
   "source": [
    "len(clarity)"
   ]
  },
  {
   "cell_type": "code",
   "execution_count": 32,
   "metadata": {},
   "outputs": [
    {
     "data": {
      "text/plain": [
       "49752"
      ]
     },
     "execution_count": 32,
     "metadata": {},
     "output_type": "execute_result"
    }
   ],
   "source": [
    "len(set(clarity['underwritingid']))"
   ]
  }
 ],
 "metadata": {
  "kernelspec": {
   "display_name": "Python 3",
   "language": "python",
   "name": "python3"
  },
  "language_info": {
   "codemirror_mode": {
    "name": "ipython",
    "version": 3
   },
   "file_extension": ".py",
   "mimetype": "text/x-python",
   "name": "python",
   "nbconvert_exporter": "python",
   "pygments_lexer": "ipython3",
   "version": "3.6.5"
  }
 },
 "nbformat": 4,
 "nbformat_minor": 2
}
